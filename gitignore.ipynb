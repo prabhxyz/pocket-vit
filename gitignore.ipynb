{
 "cells": [
  {
   "cell_type": "code",
   "execution_count": 8,
   "id": "663bc4b3-0e01-41e2-ba53-ed86d17c287d",
   "metadata": {},
   "outputs": [
    {
     "name": "stdout",
     "output_type": "stream",
     "text": [
      "Overwriting .gitignore\n"
     ]
    }
   ],
   "source": [
    "%%writefile .gitignore\n",
    "# Python cache\n",
    "__pycache__/\n",
    "*.py[cod]\n",
    "*.so\n",
    "*.egg\n",
    "*.egg-info/\n",
    "dist/\n",
    "build/\n",
    "\n",
    "# OS / Editor\n",
    ".DS_Store\n",
    "*.swp\n",
    "*.swo\n",
    "*~\n",
    "\n",
    "# Environment\n",
    ".venv/\n",
    "env/\n",
    ".vscode/\n",
    ".idea/\n",
    "*.deb.1\n",
    "/data/\n",
    "/.cache/\n",
    "/.config/\n",
    "/.gnupg/\n",
    "/.ipynb_checkpoints/\n",
    "/.ipython/\n",
    "/.jupyter/\n",
    "/.local/\n",
    "/.nv/\n",
    "/.nvwb/\n",
    "/.ssh/\n",
    ".*\n",
    "!.gitignore\n",
    "    \n",
    "# Models\n",
    "*.pth\n",
    "*.pt\n",
    "checkpoints/\n",
    "\n",
    "# Trash folder\n",
    ".Trash-1000/"
   ]
  }
 ],
 "metadata": {
  "kernelspec": {
   "display_name": "Python 3 (ipykernel)",
   "language": "python",
   "name": "python3"
  },
  "language_info": {
   "codemirror_mode": {
    "name": "ipython",
    "version": 3
   },
   "file_extension": ".py",
   "mimetype": "text/x-python",
   "name": "python",
   "nbconvert_exporter": "python",
   "pygments_lexer": "ipython3",
   "version": "3.10.12"
  }
 },
 "nbformat": 4,
 "nbformat_minor": 5
}
